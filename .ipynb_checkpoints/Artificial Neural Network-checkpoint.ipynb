{
 "cells": [
  {
   "cell_type": "code",
   "execution_count": 2,
   "metadata": {
    "collapsed": true
   },
   "outputs": [],
   "source": [
    "import numpy as np\n",
    "from scipy.io import loadmat"
   ]
  },
  {
   "cell_type": "code",
   "execution_count": 3,
   "metadata": {
    "collapsed": true
   },
   "outputs": [],
   "source": [
    "data = loadmat('ex3data1.mat')"
   ]
  },
  {
   "cell_type": "code",
   "execution_count": 4,
   "metadata": {},
   "outputs": [],
   "source": [
    "X = data['X']\n",
    "y_t = data['y']"
   ]
  },
  {
   "cell_type": "code",
   "execution_count": 5,
   "metadata": {
    "collapsed": true
   },
   "outputs": [],
   "source": [
    "num_labels = 10\n",
    "y = np.zeros([y_t.shape[0], num_labels])\n",
    "for i in range(0, y_t.shape[0]):\n",
    "    if y_t[i] == 10:\n",
    "        y_t[i] = 0\n",
    "    y[i, y_t[i]] = 1"
   ]
  },
  {
   "cell_type": "code",
   "execution_count": 5,
   "metadata": {},
   "outputs": [
    {
     "name": "stderr",
     "output_type": "stream",
     "text": [
      "Using TensorFlow backend.\n"
     ]
    }
   ],
   "source": [
    "import keras"
   ]
  },
  {
   "cell_type": "code",
   "execution_count": 6,
   "metadata": {},
   "outputs": [],
   "source": [
    "import keras\n",
    "from keras.models import Sequential\n",
    "from keras.layers import Dense"
   ]
  },
  {
   "cell_type": "code",
   "execution_count": 7,
   "metadata": {},
   "outputs": [],
   "source": [
    "classifier = Sequential()"
   ]
  },
  {
   "cell_type": "code",
   "execution_count": 8,
   "metadata": {},
   "outputs": [],
   "source": [
    "classifier.add(Dense(units=25, input_shape=(400,), kernel_initializer='glorot_uniform', activation='sigmoid'))"
   ]
  },
  {
   "cell_type": "code",
   "execution_count": 9,
   "metadata": {
    "collapsed": true
   },
   "outputs": [],
   "source": [
    "classifier.add(Dense(units=10, kernel_initializer='glorot_uniform', activation='sigmoid'))"
   ]
  },
  {
   "cell_type": "code",
   "execution_count": 10,
   "metadata": {
    "collapsed": true
   },
   "outputs": [],
   "source": [
    "classifier.compile(optimizer='adam', loss='binary_crossentropy', metrics=['accuracy'])"
   ]
  },
  {
   "cell_type": "code",
   "execution_count": 17,
   "metadata": {},
   "outputs": [
    {
     "name": "stdout",
     "output_type": "stream",
     "text": [
      "Epoch 1/50\n",
      "5000/5000 [==============================] - 0s 79us/step - loss: 0.0026 - acc: 0.9998\n",
      "Epoch 2/50\n",
      "5000/5000 [==============================] - 0s 73us/step - loss: 0.0026 - acc: 0.9998\n",
      "Epoch 3/50\n",
      "5000/5000 [==============================] - 0s 80us/step - loss: 0.0025 - acc: 0.9998\n",
      "Epoch 4/50\n",
      "5000/5000 [==============================] - 0s 83us/step - loss: 0.0025 - acc: 0.9998\n",
      "Epoch 5/50\n",
      "5000/5000 [==============================] - 1s 104us/step - loss: 0.0025 - acc: 0.9998\n",
      "Epoch 6/50\n",
      "5000/5000 [==============================] - 0s 76us/step - loss: 0.0024 - acc: 0.9998\n",
      "Epoch 7/50\n",
      "5000/5000 [==============================] - 0s 79us/step - loss: 0.0024 - acc: 0.9998\n",
      "Epoch 8/50\n",
      "5000/5000 [==============================] - 1s 112us/step - loss: 0.0024 - acc: 0.9998\n",
      "Epoch 9/50\n",
      "5000/5000 [==============================] - 0s 78us/step - loss: 0.0023 - acc: 0.9998\n",
      "Epoch 10/50\n",
      "5000/5000 [==============================] - 0s 77us/step - loss: 0.0023 - acc: 0.9998\n",
      "Epoch 11/50\n",
      "5000/5000 [==============================] - 0s 77us/step - loss: 0.0023 - acc: 0.9998\n",
      "Epoch 12/50\n",
      "5000/5000 [==============================] - 0s 77us/step - loss: 0.0022 - acc: 0.9998\n",
      "Epoch 13/50\n",
      "5000/5000 [==============================] - 0s 78us/step - loss: 0.0022 - acc: 0.9998\n",
      "Epoch 14/50\n",
      "5000/5000 [==============================] - 0s 78us/step - loss: 0.0022 - acc: 0.9998\n",
      "Epoch 15/50\n",
      "5000/5000 [==============================] - 0s 76us/step - loss: 0.0022 - acc: 0.9998\n",
      "Epoch 16/50\n",
      "5000/5000 [==============================] - 0s 81us/step - loss: 0.0021 - acc: 0.9998\n",
      "Epoch 17/50\n",
      "5000/5000 [==============================] - 1s 110us/step - loss: 0.0021 - acc: 0.9998\n",
      "Epoch 18/50\n",
      "5000/5000 [==============================] - 1s 102us/step - loss: 0.0021 - acc: 0.9998\n",
      "Epoch 19/50\n",
      "5000/5000 [==============================] - 0s 88us/step - loss: 0.0021 - acc: 0.9998\n",
      "Epoch 20/50\n",
      "5000/5000 [==============================] - 0s 99us/step - loss: 0.0020 - acc: 0.9999\n",
      "Epoch 21/50\n",
      "5000/5000 [==============================] - 0s 85us/step - loss: 0.0020 - acc: 0.9998\n",
      "Epoch 22/50\n",
      "5000/5000 [==============================] - 0s 79us/step - loss: 0.0020 - acc: 0.9999\n",
      "Epoch 23/50\n",
      "5000/5000 [==============================] - 0s 76us/step - loss: 0.0020 - acc: 0.9999\n",
      "Epoch 24/50\n",
      "5000/5000 [==============================] - 0s 77us/step - loss: 0.0019 - acc: 0.9999\n",
      "Epoch 25/50\n",
      "5000/5000 [==============================] - 1s 101us/step - loss: 0.0019 - acc: 0.9998\n",
      "Epoch 26/50\n",
      "5000/5000 [==============================] - 0s 89us/step - loss: 0.0019 - acc: 0.9999\n",
      "Epoch 27/50\n",
      "5000/5000 [==============================] - 0s 92us/step - loss: 0.0019 - acc: 0.9999\n",
      "Epoch 28/50\n",
      "5000/5000 [==============================] - 0s 83us/step - loss: 0.0018 - acc: 0.9998\n",
      "Epoch 29/50\n",
      "5000/5000 [==============================] - 0s 90us/step - loss: 0.0018 - acc: 0.9999\n",
      "Epoch 30/50\n",
      "5000/5000 [==============================] - 0s 80us/step - loss: 0.0018 - acc: 0.9999\n",
      "Epoch 31/50\n",
      "5000/5000 [==============================] - 0s 84us/step - loss: 0.0018 - acc: 0.9999\n",
      "Epoch 32/50\n",
      "5000/5000 [==============================] - 0s 89us/step - loss: 0.0018 - acc: 0.9999\n",
      "Epoch 33/50\n",
      "5000/5000 [==============================] - 0s 84us/step - loss: 0.0017 - acc: 0.9999\n",
      "Epoch 34/50\n",
      "5000/5000 [==============================] - 0s 89us/step - loss: 0.0017 - acc: 0.9999\n",
      "Epoch 35/50\n",
      "5000/5000 [==============================] - 0s 80us/step - loss: 0.0017 - acc: 0.9999\n",
      "Epoch 36/50\n",
      "5000/5000 [==============================] - ETA: 0s - loss: 0.0017 - acc: 0.999 - 0s 82us/step - loss: 0.0017 - acc: 0.9999\n",
      "Epoch 37/50\n",
      "5000/5000 [==============================] - 0s 80us/step - loss: 0.0017 - acc: 0.9999\n",
      "Epoch 38/50\n",
      "5000/5000 [==============================] - 0s 81us/step - loss: 0.0016 - acc: 0.9999\n",
      "Epoch 39/50\n",
      "5000/5000 [==============================] - 0s 88us/step - loss: 0.0016 - acc: 0.9999\n",
      "Epoch 40/50\n",
      "5000/5000 [==============================] - 0s 79us/step - loss: 0.0016 - acc: 0.9999\n",
      "Epoch 41/50\n",
      "5000/5000 [==============================] - 0s 81us/step - loss: 0.0016 - acc: 0.9999\n",
      "Epoch 42/50\n",
      "5000/5000 [==============================] - 0s 84us/step - loss: 0.0016 - acc: 0.9999\n",
      "Epoch 43/50\n",
      "5000/5000 [==============================] - 0s 82us/step - loss: 0.0015 - acc: 0.9999\n",
      "Epoch 44/50\n",
      "5000/5000 [==============================] - 0s 84us/step - loss: 0.0015 - acc: 0.9999\n",
      "Epoch 45/50\n",
      "5000/5000 [==============================] - 0s 89us/step - loss: 0.0015 - acc: 0.9999\n",
      "Epoch 46/50\n",
      "5000/5000 [==============================] - 0s 92us/step - loss: 0.0015 - acc: 0.9999\n",
      "Epoch 47/50\n",
      "5000/5000 [==============================] - 0s 90us/step - loss: 0.0015 - acc: 0.9999\n",
      "Epoch 48/50\n",
      "5000/5000 [==============================] - 0s 94us/step - loss: 0.0015 - acc: 0.9999\n",
      "Epoch 49/50\n",
      "5000/5000 [==============================] - 0s 92us/step - loss: 0.0014 - acc: 0.9999\n",
      "Epoch 50/50\n",
      "5000/5000 [==============================] - 0s 95us/step - loss: 0.0014 - acc: 0.9999\n"
     ]
    },
    {
     "data": {
      "text/plain": [
       "<keras.callbacks.History at 0x2583e9551d0>"
      ]
     },
     "execution_count": 17,
     "metadata": {},
     "output_type": "execute_result"
    }
   ],
   "source": [
    "classifier.fit(x=X, y=y, batch_size=32, epochs=50)"
   ]
  },
  {
   "cell_type": "code",
   "execution_count": 1,
   "metadata": {},
   "outputs": [
    {
     "name": "stderr",
     "output_type": "stream",
     "text": [
      "Using TensorFlow backend.\n"
     ]
    }
   ],
   "source": [
    "import keras\n",
    "from keras.models import Sequential\n",
    "from keras.layers import Dense\n",
    "from keras.wrappers.scikit_learn import KerasClassifier\n",
    "from sklearn.model_selection import cross_val_score"
   ]
  },
  {
   "cell_type": "code",
   "execution_count": null,
   "metadata": {},
   "outputs": [],
   "source": [
    "def build_classifier():\n",
    "    classifier = Sequential()\n",
    "    classifier.add(Dense(units=25, input_shape=(400,), kernel_initializer='glorot_uniform', activation='sigmoid'))\n",
    "    classifier.add(Dense(units=10, kernel_initializer='glorot_uniform', activation='sigmoid'))\n",
    "    classifier.compile(optimizer='adam', loss='binary_crossentropy', metrics=['accuracy'])\n",
    "    return classifier\n",
    "classifier = KerasClassifier(build_fn=build_classifier, batch_size=32, epochs=50)\n",
    "accuracies = cross_val_score(estimator=classifier, X=X, y=y, cv=10, n_jobs=-1)"
   ]
  },
  {
   "cell_type": "code",
   "execution_count": 18,
   "metadata": {
    "collapsed": true
   },
   "outputs": [],
   "source": [
    "y_pred = classifier.predict(X)"
   ]
  },
  {
   "cell_type": "code",
   "execution_count": 19,
   "metadata": {},
   "outputs": [
    {
     "name": "stdout",
     "output_type": "stream",
     "text": [
      "Accuracy :  99.96\n"
     ]
    }
   ],
   "source": [
    "count = 0\n",
    "for i in range(0, X.shape[0]):\n",
    "    tmp = y_pred[i,:].argmax()\n",
    "    if y_t[i] == tmp:\n",
    "        count = count + 1\n",
    "print(\"Accuracy : \",(count*100/X.shape[0]))"
   ]
  },
  {
   "cell_type": "code",
   "execution_count": 20,
   "metadata": {},
   "outputs": [
    {
     "data": {
      "text/plain": [
       "4998"
      ]
     },
     "execution_count": 20,
     "metadata": {},
     "output_type": "execute_result"
    }
   ],
   "source": [
    "count"
   ]
  }
 ],
 "metadata": {
  "kernelspec": {
   "display_name": "Python 3",
   "language": "python",
   "name": "python3"
  },
  "language_info": {
   "codemirror_mode": {
    "name": "ipython",
    "version": 3
   },
   "file_extension": ".py",
   "mimetype": "text/x-python",
   "name": "python",
   "nbconvert_exporter": "python",
   "pygments_lexer": "ipython3",
   "version": "3.6.2"
  }
 },
 "nbformat": 4,
 "nbformat_minor": 2
}
